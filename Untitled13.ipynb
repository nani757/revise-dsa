{
  "nbformat": 4,
  "nbformat_minor": 0,
  "metadata": {
    "colab": {
      "provenance": []
    },
    "kernelspec": {
      "name": "python3",
      "display_name": "Python 3"
    },
    "language_info": {
      "name": "python"
    }
  },
  "cells": [
    {
      "cell_type": "code",
      "execution_count": null,
      "metadata": {
        "colab": {
          "base_uri": "https://localhost:8080/"
        },
        "id": "GEa8DsdM8lFG",
        "outputId": "3714064c-f97e-4319-d0af-ced80f6ae120"
      },
      "outputs": [
        {
          "output_type": "stream",
          "name": "stdout",
          "text": [
            "A\n",
            "l\n",
            "i\n",
            "c\n",
            "e\n"
          ]
        }
      ],
      "source": [
        "name = \"Alice\"\n",
        "for item in name:\n",
        "    print(item)\n"
      ]
    },
    {
      "cell_type": "code",
      "source": [
        "for i in range(1, 3):  # iterate over numbers 1 to 10\n",
        "    for j in range(1, 3):  # iterate over numbers 1 to 10 for multiplication\n",
        "        print(f\"{i} * {j} = {i*j}\")  # print the multiplication table entry\n",
        "    print()  # add a blank line after each multiplication table\n"
      ],
      "metadata": {
        "colab": {
          "base_uri": "https://localhost:8080/"
        },
        "id": "9oCGsgKD_oTy",
        "outputId": "544d155a-9eea-4209-ba4a-aade42b147f5"
      },
      "execution_count": null,
      "outputs": [
        {
          "output_type": "stream",
          "name": "stdout",
          "text": [
            "1 * 1 = 1\n",
            "1 * 2 = 2\n",
            "\n",
            "2 * 1 = 2\n",
            "2 * 2 = 4\n",
            "\n"
          ]
        }
      ]
    },
    {
      "cell_type": "code",
      "source": [
        "for i in range(1, 5):  # iterate over numbers 1 to 10\n",
        "    for j in range(1, 11):  # iterate over numbers 1 to 3 for multiplication\n",
        "        print(f\"{i} * {j} = {i*j}\")  # print the multiplication table entry\n",
        "    print()  # add a blank line after each set of multiples\n"
      ],
      "metadata": {
        "colab": {
          "base_uri": "https://localhost:8080/"
        },
        "id": "pKu1PyAR81mP",
        "outputId": "5f8e6293-556d-4581-8ce7-c588fa09e24c"
      },
      "execution_count": null,
      "outputs": [
        {
          "output_type": "stream",
          "name": "stdout",
          "text": [
            "1 * 1 = 1\n",
            "1 * 2 = 2\n",
            "1 * 3 = 3\n",
            "1 * 4 = 4\n",
            "1 * 5 = 5\n",
            "1 * 6 = 6\n",
            "1 * 7 = 7\n",
            "1 * 8 = 8\n",
            "1 * 9 = 9\n",
            "1 * 10 = 10\n",
            "\n",
            "2 * 1 = 2\n",
            "2 * 2 = 4\n",
            "2 * 3 = 6\n",
            "2 * 4 = 8\n",
            "2 * 5 = 10\n",
            "2 * 6 = 12\n",
            "2 * 7 = 14\n",
            "2 * 8 = 16\n",
            "2 * 9 = 18\n",
            "2 * 10 = 20\n",
            "\n",
            "3 * 1 = 3\n",
            "3 * 2 = 6\n",
            "3 * 3 = 9\n",
            "3 * 4 = 12\n",
            "3 * 5 = 15\n",
            "3 * 6 = 18\n",
            "3 * 7 = 21\n",
            "3 * 8 = 24\n",
            "3 * 9 = 27\n",
            "3 * 10 = 30\n",
            "\n",
            "4 * 1 = 4\n",
            "4 * 2 = 8\n",
            "4 * 3 = 12\n",
            "4 * 4 = 16\n",
            "4 * 5 = 20\n",
            "4 * 6 = 24\n",
            "4 * 7 = 28\n",
            "4 * 8 = 32\n",
            "4 * 9 = 36\n",
            "4 * 10 = 40\n",
            "\n"
          ]
        }
      ]
    },
    {
      "cell_type": "code",
      "source": [
        "test = [3,32,22,55,34,55]\n",
        "x = test.sort()\n",
        "# print(test)\n",
        "temp = []\n",
        "# for i in range(len(test)):\n",
        "while i < len(test):\n",
        "    print(test[i])\n",
        "    if test[i] not in temp:\n",
        "        temp.append(test[i])\n",
        "        print(\"False\")\n",
        "        # break\n",
        "    else:\n",
        "        print(\"True\")\n",
        "        break\n",
        "print(temp)\n",
        "    # if test[1]"
      ],
      "metadata": {
        "id": "GP8a2fn29RER",
        "colab": {
          "base_uri": "https://localhost:8080/"
        },
        "outputId": "a93aab8f-c15b-4b10-bd6b-66d42aa49f1d"
      },
      "execution_count": null,
      "outputs": [
        {
          "output_type": "stream",
          "name": "stdout",
          "text": [
            "55\n",
            "False\n",
            "55\n",
            "True\n",
            "[55]\n"
          ]
        }
      ]
    },
    {
      "cell_type": "code",
      "source": [
        "# def has_duplicates(lst):\n",
        "#     return len(lst) != len(set(lst))\n",
        "\n",
        "# # Example usage:\n",
        "# my_list = [1, 2, 3, 4, 5, 1]\n",
        "# print(has_duplicates(my_list))  # Output: True\n",
        "\n",
        "# my_list = [1, 2, 3, 4, 5]\n",
        "# print(has_duplicates(my_list))  # Output: False\n",
        "\n",
        "def has_duplicates(lst):\n",
        "    # Count the number of items in the original list\n",
        "    original_length = len(lst)\n",
        "\n",
        "    # Convert the list to a set, which removes duplicates, and count the items\n",
        "    set_length = len(set(lst))\n",
        "\n",
        "    # Compare the lengths. If they are different, there are duplicates\n",
        "    return original_length != set_length\n",
        "\n",
        "# Example usage:\n",
        "my_list = [3,32,22,55,34,55]\n",
        "print(has_duplicates(my_list))  # Output: True, because 1 is duplicated\n",
        "\n",
        "my_list = [3,32,22,55,321]\n",
        "print(has_duplicates(my_list))  # Output: False, because there are no duplicates\n"
      ],
      "metadata": {
        "colab": {
          "base_uri": "https://localhost:8080/"
        },
        "id": "hBp373z2_3HC",
        "outputId": "3b472106-fc7a-4c92-ba53-c528dd125947"
      },
      "execution_count": null,
      "outputs": [
        {
          "output_type": "stream",
          "name": "stdout",
          "text": [
            "True\n",
            "False\n"
          ]
        }
      ]
    },
    {
      "cell_type": "code",
      "source": [],
      "metadata": {
        "id": "Cm8R1VnQE3Ie"
      },
      "execution_count": null,
      "outputs": []
    },
    {
      "cell_type": "code",
      "source": [
        "# Creating a set with duplicate values\n",
        "my_set = {1, 2, 3, 2, 4, 5, 3, 1}\n",
        "\n",
        "print(my_set)\n",
        "type(my_set)"
      ],
      "metadata": {
        "colab": {
          "base_uri": "https://localhost:8080/"
        },
        "id": "VgZzrAEu7zcq",
        "outputId": "e820288e-cac2-4496-f05e-949825257102"
      },
      "execution_count": null,
      "outputs": [
        {
          "output_type": "stream",
          "name": "stdout",
          "text": [
            "{1, 2, 3, 4, 5}\n"
          ]
        },
        {
          "output_type": "execute_result",
          "data": {
            "text/plain": [
              "set"
            ]
          },
          "metadata": {},
          "execution_count": 11
        }
      ]
    },
    {
      "cell_type": "code",
      "source": [
        "s = \"racecar\"\n",
        "t = \"carrace\"\n",
        "\n",
        "# test =(set(s,t))\n",
        "# test= s.union(t)\n",
        "# print(test)\n",
        "# len(set(t))"
      ],
      "metadata": {
        "id": "p3ToVrKg-k5x"
      },
      "execution_count": null,
      "outputs": []
    },
    {
      "cell_type": "code",
      "source": [
        "s = \"racecar\"\n",
        "t = \"carrace\"\n",
        "test= {}\n",
        "for i in s:\n",
        "    print(test.update({i}))\n",
        "\n",
        "# test= s.union(t)\n",
        "# print(test)"
      ],
      "metadata": {
        "colab": {
          "base_uri": "https://localhost:8080/",
          "height": 221
        },
        "id": "wqOJDYkyHWLL",
        "outputId": "be797fa3-a626-4474-9f39-e62c2da7c492"
      },
      "execution_count": null,
      "outputs": [
        {
          "output_type": "error",
          "ename": "ValueError",
          "evalue": "dictionary update sequence element #0 has length 1; 2 is required",
          "traceback": [
            "\u001b[0;31m---------------------------------------------------------------------------\u001b[0m",
            "\u001b[0;31mValueError\u001b[0m                                Traceback (most recent call last)",
            "\u001b[0;32m<ipython-input-32-a637e8d1fcf6>\u001b[0m in \u001b[0;36m<cell line: 4>\u001b[0;34m()\u001b[0m\n\u001b[1;32m      3\u001b[0m \u001b[0mtest\u001b[0m\u001b[0;34m=\u001b[0m \u001b[0;34m{\u001b[0m\u001b[0;34m}\u001b[0m\u001b[0;34m\u001b[0m\u001b[0;34m\u001b[0m\u001b[0m\n\u001b[1;32m      4\u001b[0m \u001b[0;32mfor\u001b[0m \u001b[0mi\u001b[0m \u001b[0;32min\u001b[0m \u001b[0ms\u001b[0m\u001b[0;34m:\u001b[0m\u001b[0;34m\u001b[0m\u001b[0;34m\u001b[0m\u001b[0m\n\u001b[0;32m----> 5\u001b[0;31m     \u001b[0mprint\u001b[0m\u001b[0;34m(\u001b[0m\u001b[0mtest\u001b[0m\u001b[0;34m.\u001b[0m\u001b[0mupdate\u001b[0m\u001b[0;34m(\u001b[0m\u001b[0;34m{\u001b[0m\u001b[0mi\u001b[0m\u001b[0;34m}\u001b[0m\u001b[0;34m)\u001b[0m\u001b[0;34m)\u001b[0m\u001b[0;34m\u001b[0m\u001b[0;34m\u001b[0m\u001b[0m\n\u001b[0m\u001b[1;32m      6\u001b[0m \u001b[0;34m\u001b[0m\u001b[0m\n\u001b[1;32m      7\u001b[0m \u001b[0;31m# test= s.union(t)\u001b[0m\u001b[0;34m\u001b[0m\u001b[0;34m\u001b[0m\u001b[0m\n",
            "\u001b[0;31mValueError\u001b[0m: dictionary update sequence element #0 has length 1; 2 is required"
          ]
        }
      ]
    },
    {
      "cell_type": "code",
      "source": [
        "def is_rotation(s, t):\n",
        "    if len(s) != len(t):\n",
        "        return False\n",
        "    return t in (s + s)\n",
        "\n",
        "# Example usage\n",
        "s = \"jar\"\n",
        "t = \"jam\"\n",
        "print(is_rotation(s, t))  # Output: True\n"
      ],
      "metadata": {
        "colab": {
          "base_uri": "https://localhost:8080/"
        },
        "id": "7j0Rlj-pIcMJ",
        "outputId": "1b3101de-bc4e-481d-d291-1c90169059ff"
      },
      "execution_count": null,
      "outputs": [
        {
          "output_type": "stream",
          "name": "stdout",
          "text": [
            "False\n"
          ]
        }
      ]
    },
    {
      "cell_type": "code",
      "source": [],
      "metadata": {
        "id": "fNkJO5cnKLnx"
      },
      "execution_count": null,
      "outputs": []
    }
  ]
}